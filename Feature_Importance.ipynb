{
 "cells": [
  {
   "cell_type": "markdown",
   "metadata": {},
   "source": [
    "We are running the following program to check if the following hypothesis;\n",
    "\n",
    "Sales Rank of a particular product is dependent on the sentiment polarity and number of words in a review. "
   ]
  },
  {
   "cell_type": "code",
   "execution_count": 4,
   "metadata": {
    "collapsed": true
   },
   "outputs": [],
   "source": [
    "#Install the dependencies from the respective packages\n",
    "\n",
    "import numpy as np\n",
    "import pandas as pd\n",
    "import sys\n",
    " \n",
    "from sklearn.linear_model import LogisticRegression\n",
    "from sklearn import svm\n",
    "from sklearn import preprocessing\n",
    "from sklearn.ensemble import GradientBoostingClassifier\n",
    "from sklearn.ensemble import VotingClassifier, RandomForestClassifier\n",
    "from sklearn import svm, cross_validation, neighbors\n",
    "from sklearn.ensemble import ExtraTreesClassifier\n",
    "import matplotlib.pyplot as plt\n",
    "from matplotlib import style\n",
    "from sklearn.preprocessing import scale"
   ]
  },
  {
   "cell_type": "markdown",
   "metadata": {},
   "source": [
    "We will be calculating the feature importance by running an Extra Trees classifier from the Scikit-Learn library. An Extra Trees Classifier fits a number of randomized decision trees (a.k.a. extra-trees) on various sub-samples of the dataset and use averaging to improve the predictive accuracy and control over-fitting."
   ]
  },
  {
   "cell_type": "code",
   "execution_count": 12,
   "metadata": {
    "collapsed": false
   },
   "outputs": [
    {
     "name": "stdout",
     "output_type": "stream",
     "text": [
      "['\\ufeffField_1', 'asin', 'description', 'title', 'imUrl', 'related', 'salesRank', 'categories', 'price', 'brand', 'salesRank1', 'salesRank2', 'rowID', 'reviewerID', 'Right_asin', 'reviewerName', 'helpful', 'unixReviewTime', 'reviewText', 'overall', 'reviewTime', 'summary', 'sentimentPolarity', 'sentimentSubjectivity', 'sentences', 'sentenceCount', 'wordCount', 'helpful1', 'helpful2']\n"
     ]
    },
    {
     "name": "stderr",
     "output_type": "stream",
     "text": [
      "C:\\Users\\Tushar pc\\Anaconda3\\lib\\site-packages\\ipykernel\\__main__.py:29: DataConversionWarning: A column-vector y was passed when a 1d array was expected. Please change the shape of y to (n_samples,), for example using ravel().\n"
     ]
    },
    {
     "name": "stdout",
     "output_type": "stream",
     "text": [
      "Feature ranking:\n",
      "1. feature 0 (0.234814)\n",
      "2. feature 3 (0.171132)\n",
      "3. feature 2 (0.170633)\n",
      "4. feature 5 (0.169493)\n",
      "5. feature 4 (0.117514)\n",
      "6. feature 7 (0.061975)\n",
      "7. feature 6 (0.054119)\n",
      "8. feature 1 (0.020320)\n"
     ]
    },
    {
     "data": {
      "image/png": "[encoded data removed]",
      "text/plain": [
       "<matplotlib.figure.Figure at 0x25584807748>"
      ]
     },
     "metadata": {},
     "output_type": "display_data"
    }
   ],
   "source": [
    "def feature_importance(path):\n",
    "\n",
    "    df = pd.read_csv(path, sep=',', header=0)\n",
    "    \n",
    "\n",
    "    print(df.columns.tolist())\n",
    "\n",
    "    df = df.replace([np.inf, -np.inf], np.nan)\n",
    "\n",
    "    df = df.replace([np.inf, -np.inf], 0)\n",
    "    \n",
    "    df.fillna(0, inplace=True)\n",
    "    \n",
    "    df.drop_duplicates()\n",
    "   \n",
    "    X = df[['price', 'overall', 'sentimentPolarity', 'sentimentSubjectivity', 'sentenceCount', \n",
    "                  'wordCount', 'helpful1', 'helpful2']]\n",
    "    \n",
    "    #X = scale(X)\n",
    "\n",
    "    y = df[['salesRank2']]\n",
    "    \n",
    "    #y = scale(y)\n",
    "\n",
    "    X_train, X_test, y_train, y_test = cross_validation.train_test_split(X, y, test_size = 0.3)\n",
    "\n",
    "    forest = ExtraTreesClassifier()\n",
    "\n",
    "    forest.fit(X_train, y_train)\n",
    "    importances = forest.feature_importances_\n",
    "    std = np.std([tree.feature_importances_ for tree in forest.estimators_],\n",
    "             axis=0)\n",
    "    indices = np.argsort(importances)[::-1]\n",
    "\n",
    "    # Print the feature ranking\n",
    "    print(\"Feature ranking:\")\n",
    "\n",
    "    for f in range(X.shape[1]):\n",
    "            print(\"%d. feature %d (%f)\" % (f + 1, indices[f], importances[indices[f]]))\n",
    "\n",
    "    # Plot the feature importances of the forest\n",
    "    plt.figure()\n",
    "    plt.title(\"Feature importances\")\n",
    "    plt.bar(range(X.shape[1]), importances[indices],\n",
    "       color=\"r\", yerr=std[indices], align=\"center\")\n",
    "    plt.xticks(range(X.shape[1]), indices)\n",
    "    plt.xlim([-1, X.shape[1]])\n",
    "    plt.show()\n",
    "        \n",
    "    return\n",
    "\n",
    "feature_importance(r'C:\\Users\\Tushar pc\\Desktop\\HackOnData\\Amazon_imp.csv')"
   ]
  },
  {
   "cell_type": "markdown",
   "metadata": {
    "collapsed": true
   },
   "source": [
    "As it can be seen from the bar chart above, price happens to be one of the most significant features in predicting sales rank. "
   ]
  }
 ],
 "metadata": {
  "anaconda-cloud": {},
  "kernelspec": {
   "display_name": "Python 3",
   "language": "python",
   "name": "python3"
  },
  "language_info": {
   "codemirror_mode": {
    "name": "ipython",
    "version": 3
   },
   "file_extension": ".py",
   "mimetype": "text/x-python",
   "name": "python",
   "nbconvert_exporter": "python",
   "pygments_lexer": "ipython3",
   "version": "3.5.2"
  }
 },
 "nbformat": 4,
 "nbformat_minor": 1
}
